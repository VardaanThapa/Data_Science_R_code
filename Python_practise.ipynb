{
  "nbformat": 4,
  "nbformat_minor": 0,
  "metadata": {
    "colab": {
      "name": "Untitled0.ipynb",
      "provenance": [],
      "toc_visible": true,
      "authorship_tag": "ABX9TyP4i61FFXaH7YRCpoBRLvR/",
      "include_colab_link": true
    },
    "kernelspec": {
      "name": "python3",
      "display_name": "Python 3"
    }
  },
  "cells": [
    {
      "cell_type": "markdown",
      "metadata": {
        "id": "view-in-github",
        "colab_type": "text"
      },
      "source": [
        "<a href=\"https://colab.research.google.com/github/VardaanThapa/Data_Science_code/blob/main/Python_practise.ipynb\" target=\"_parent\"><img src=\"https://colab.research.google.com/assets/colab-badge.svg\" alt=\"Open In Colab\"/></a>"
      ]
    },
    {
      "cell_type": "code",
      "metadata": {
        "id": "wDQkuUcvTU44"
      },
      "source": [
        "#Import Python Libraries\r\n",
        "import numpy as np\r\n",
        "import pandas as pd\r\n",
        "import matplotlib as mpl\r\n",
        "import seaborn as sns\r\n"
      ],
      "execution_count": 1,
      "outputs": []
    },
    {
      "cell_type": "code",
      "metadata": {
        "id": "c4MtY9p-aoRL"
      },
      "source": [
        "df = pd.read_csv(\"http://rcs.bu.edu/examples/python/data_analysis/Salaries.csv\")\r\n"
      ],
      "execution_count": 2,
      "outputs": []
    },
    {
      "cell_type": "code",
      "metadata": {
        "colab": {
          "base_uri": "https://localhost:8080/",
          "height": 359
        },
        "id": "DPqJcYGlbYJR",
        "outputId": "cb0c7bd1-503e-486d-e21c-72e5599a9e27"
      },
      "source": [
        "df.head(10)"
      ],
      "execution_count": 4,
      "outputs": [
        {
          "output_type": "execute_result",
          "data": {
            "text/html": [
              "<div>\n",
              "<style scoped>\n",
              "    .dataframe tbody tr th:only-of-type {\n",
              "        vertical-align: middle;\n",
              "    }\n",
              "\n",
              "    .dataframe tbody tr th {\n",
              "        vertical-align: top;\n",
              "    }\n",
              "\n",
              "    .dataframe thead th {\n",
              "        text-align: right;\n",
              "    }\n",
              "</style>\n",
              "<table border=\"1\" class=\"dataframe\">\n",
              "  <thead>\n",
              "    <tr style=\"text-align: right;\">\n",
              "      <th></th>\n",
              "      <th>rank</th>\n",
              "      <th>discipline</th>\n",
              "      <th>phd</th>\n",
              "      <th>service</th>\n",
              "      <th>sex</th>\n",
              "      <th>salary</th>\n",
              "    </tr>\n",
              "  </thead>\n",
              "  <tbody>\n",
              "    <tr>\n",
              "      <th>0</th>\n",
              "      <td>Prof</td>\n",
              "      <td>B</td>\n",
              "      <td>56</td>\n",
              "      <td>49</td>\n",
              "      <td>Male</td>\n",
              "      <td>186960</td>\n",
              "    </tr>\n",
              "    <tr>\n",
              "      <th>1</th>\n",
              "      <td>Prof</td>\n",
              "      <td>A</td>\n",
              "      <td>12</td>\n",
              "      <td>6</td>\n",
              "      <td>Male</td>\n",
              "      <td>93000</td>\n",
              "    </tr>\n",
              "    <tr>\n",
              "      <th>2</th>\n",
              "      <td>Prof</td>\n",
              "      <td>A</td>\n",
              "      <td>23</td>\n",
              "      <td>20</td>\n",
              "      <td>Male</td>\n",
              "      <td>110515</td>\n",
              "    </tr>\n",
              "    <tr>\n",
              "      <th>3</th>\n",
              "      <td>Prof</td>\n",
              "      <td>A</td>\n",
              "      <td>40</td>\n",
              "      <td>31</td>\n",
              "      <td>Male</td>\n",
              "      <td>131205</td>\n",
              "    </tr>\n",
              "    <tr>\n",
              "      <th>4</th>\n",
              "      <td>Prof</td>\n",
              "      <td>B</td>\n",
              "      <td>20</td>\n",
              "      <td>18</td>\n",
              "      <td>Male</td>\n",
              "      <td>104800</td>\n",
              "    </tr>\n",
              "    <tr>\n",
              "      <th>5</th>\n",
              "      <td>Prof</td>\n",
              "      <td>A</td>\n",
              "      <td>20</td>\n",
              "      <td>20</td>\n",
              "      <td>Male</td>\n",
              "      <td>122400</td>\n",
              "    </tr>\n",
              "    <tr>\n",
              "      <th>6</th>\n",
              "      <td>AssocProf</td>\n",
              "      <td>A</td>\n",
              "      <td>20</td>\n",
              "      <td>17</td>\n",
              "      <td>Male</td>\n",
              "      <td>81285</td>\n",
              "    </tr>\n",
              "    <tr>\n",
              "      <th>7</th>\n",
              "      <td>Prof</td>\n",
              "      <td>A</td>\n",
              "      <td>18</td>\n",
              "      <td>18</td>\n",
              "      <td>Male</td>\n",
              "      <td>126300</td>\n",
              "    </tr>\n",
              "    <tr>\n",
              "      <th>8</th>\n",
              "      <td>Prof</td>\n",
              "      <td>A</td>\n",
              "      <td>29</td>\n",
              "      <td>19</td>\n",
              "      <td>Male</td>\n",
              "      <td>94350</td>\n",
              "    </tr>\n",
              "    <tr>\n",
              "      <th>9</th>\n",
              "      <td>Prof</td>\n",
              "      <td>A</td>\n",
              "      <td>51</td>\n",
              "      <td>51</td>\n",
              "      <td>Male</td>\n",
              "      <td>57800</td>\n",
              "    </tr>\n",
              "  </tbody>\n",
              "</table>\n",
              "</div>"
            ],
            "text/plain": [
              "        rank discipline  phd  service   sex  salary\n",
              "0       Prof          B   56       49  Male  186960\n",
              "1       Prof          A   12        6  Male   93000\n",
              "2       Prof          A   23       20  Male  110515\n",
              "3       Prof          A   40       31  Male  131205\n",
              "4       Prof          B   20       18  Male  104800\n",
              "5       Prof          A   20       20  Male  122400\n",
              "6  AssocProf          A   20       17  Male   81285\n",
              "7       Prof          A   18       18  Male  126300\n",
              "8       Prof          A   29       19  Male   94350\n",
              "9       Prof          A   51       51  Male   57800"
            ]
          },
          "metadata": {
            "tags": []
          },
          "execution_count": 4
        }
      ]
    },
    {
      "cell_type": "code",
      "metadata": {
        "colab": {
          "base_uri": "https://localhost:8080/",
          "height": 669
        },
        "id": "eFCOf-psbahk",
        "outputId": "7c3213f5-52e9-40e9-d683-885b968f2b35"
      },
      "source": [
        "df[:20]"
      ],
      "execution_count": 6,
      "outputs": [
        {
          "output_type": "execute_result",
          "data": {
            "text/html": [
              "<div>\n",
              "<style scoped>\n",
              "    .dataframe tbody tr th:only-of-type {\n",
              "        vertical-align: middle;\n",
              "    }\n",
              "\n",
              "    .dataframe tbody tr th {\n",
              "        vertical-align: top;\n",
              "    }\n",
              "\n",
              "    .dataframe thead th {\n",
              "        text-align: right;\n",
              "    }\n",
              "</style>\n",
              "<table border=\"1\" class=\"dataframe\">\n",
              "  <thead>\n",
              "    <tr style=\"text-align: right;\">\n",
              "      <th></th>\n",
              "      <th>rank</th>\n",
              "      <th>discipline</th>\n",
              "      <th>phd</th>\n",
              "      <th>service</th>\n",
              "      <th>sex</th>\n",
              "      <th>salary</th>\n",
              "    </tr>\n",
              "  </thead>\n",
              "  <tbody>\n",
              "    <tr>\n",
              "      <th>0</th>\n",
              "      <td>Prof</td>\n",
              "      <td>B</td>\n",
              "      <td>56</td>\n",
              "      <td>49</td>\n",
              "      <td>Male</td>\n",
              "      <td>186960</td>\n",
              "    </tr>\n",
              "    <tr>\n",
              "      <th>1</th>\n",
              "      <td>Prof</td>\n",
              "      <td>A</td>\n",
              "      <td>12</td>\n",
              "      <td>6</td>\n",
              "      <td>Male</td>\n",
              "      <td>93000</td>\n",
              "    </tr>\n",
              "    <tr>\n",
              "      <th>2</th>\n",
              "      <td>Prof</td>\n",
              "      <td>A</td>\n",
              "      <td>23</td>\n",
              "      <td>20</td>\n",
              "      <td>Male</td>\n",
              "      <td>110515</td>\n",
              "    </tr>\n",
              "    <tr>\n",
              "      <th>3</th>\n",
              "      <td>Prof</td>\n",
              "      <td>A</td>\n",
              "      <td>40</td>\n",
              "      <td>31</td>\n",
              "      <td>Male</td>\n",
              "      <td>131205</td>\n",
              "    </tr>\n",
              "    <tr>\n",
              "      <th>4</th>\n",
              "      <td>Prof</td>\n",
              "      <td>B</td>\n",
              "      <td>20</td>\n",
              "      <td>18</td>\n",
              "      <td>Male</td>\n",
              "      <td>104800</td>\n",
              "    </tr>\n",
              "    <tr>\n",
              "      <th>5</th>\n",
              "      <td>Prof</td>\n",
              "      <td>A</td>\n",
              "      <td>20</td>\n",
              "      <td>20</td>\n",
              "      <td>Male</td>\n",
              "      <td>122400</td>\n",
              "    </tr>\n",
              "    <tr>\n",
              "      <th>6</th>\n",
              "      <td>AssocProf</td>\n",
              "      <td>A</td>\n",
              "      <td>20</td>\n",
              "      <td>17</td>\n",
              "      <td>Male</td>\n",
              "      <td>81285</td>\n",
              "    </tr>\n",
              "    <tr>\n",
              "      <th>7</th>\n",
              "      <td>Prof</td>\n",
              "      <td>A</td>\n",
              "      <td>18</td>\n",
              "      <td>18</td>\n",
              "      <td>Male</td>\n",
              "      <td>126300</td>\n",
              "    </tr>\n",
              "    <tr>\n",
              "      <th>8</th>\n",
              "      <td>Prof</td>\n",
              "      <td>A</td>\n",
              "      <td>29</td>\n",
              "      <td>19</td>\n",
              "      <td>Male</td>\n",
              "      <td>94350</td>\n",
              "    </tr>\n",
              "    <tr>\n",
              "      <th>9</th>\n",
              "      <td>Prof</td>\n",
              "      <td>A</td>\n",
              "      <td>51</td>\n",
              "      <td>51</td>\n",
              "      <td>Male</td>\n",
              "      <td>57800</td>\n",
              "    </tr>\n",
              "    <tr>\n",
              "      <th>10</th>\n",
              "      <td>Prof</td>\n",
              "      <td>B</td>\n",
              "      <td>39</td>\n",
              "      <td>33</td>\n",
              "      <td>Male</td>\n",
              "      <td>128250</td>\n",
              "    </tr>\n",
              "    <tr>\n",
              "      <th>11</th>\n",
              "      <td>Prof</td>\n",
              "      <td>B</td>\n",
              "      <td>23</td>\n",
              "      <td>23</td>\n",
              "      <td>Male</td>\n",
              "      <td>134778</td>\n",
              "    </tr>\n",
              "    <tr>\n",
              "      <th>12</th>\n",
              "      <td>AsstProf</td>\n",
              "      <td>B</td>\n",
              "      <td>1</td>\n",
              "      <td>0</td>\n",
              "      <td>Male</td>\n",
              "      <td>88000</td>\n",
              "    </tr>\n",
              "    <tr>\n",
              "      <th>13</th>\n",
              "      <td>Prof</td>\n",
              "      <td>B</td>\n",
              "      <td>35</td>\n",
              "      <td>33</td>\n",
              "      <td>Male</td>\n",
              "      <td>162200</td>\n",
              "    </tr>\n",
              "    <tr>\n",
              "      <th>14</th>\n",
              "      <td>Prof</td>\n",
              "      <td>B</td>\n",
              "      <td>25</td>\n",
              "      <td>19</td>\n",
              "      <td>Male</td>\n",
              "      <td>153750</td>\n",
              "    </tr>\n",
              "    <tr>\n",
              "      <th>15</th>\n",
              "      <td>Prof</td>\n",
              "      <td>B</td>\n",
              "      <td>17</td>\n",
              "      <td>3</td>\n",
              "      <td>Male</td>\n",
              "      <td>150480</td>\n",
              "    </tr>\n",
              "    <tr>\n",
              "      <th>16</th>\n",
              "      <td>AsstProf</td>\n",
              "      <td>B</td>\n",
              "      <td>8</td>\n",
              "      <td>3</td>\n",
              "      <td>Male</td>\n",
              "      <td>75044</td>\n",
              "    </tr>\n",
              "    <tr>\n",
              "      <th>17</th>\n",
              "      <td>AsstProf</td>\n",
              "      <td>B</td>\n",
              "      <td>4</td>\n",
              "      <td>0</td>\n",
              "      <td>Male</td>\n",
              "      <td>92000</td>\n",
              "    </tr>\n",
              "    <tr>\n",
              "      <th>18</th>\n",
              "      <td>Prof</td>\n",
              "      <td>A</td>\n",
              "      <td>19</td>\n",
              "      <td>7</td>\n",
              "      <td>Male</td>\n",
              "      <td>107300</td>\n",
              "    </tr>\n",
              "    <tr>\n",
              "      <th>19</th>\n",
              "      <td>Prof</td>\n",
              "      <td>A</td>\n",
              "      <td>29</td>\n",
              "      <td>27</td>\n",
              "      <td>Male</td>\n",
              "      <td>150500</td>\n",
              "    </tr>\n",
              "  </tbody>\n",
              "</table>\n",
              "</div>"
            ],
            "text/plain": [
              "         rank discipline  phd  service   sex  salary\n",
              "0        Prof          B   56       49  Male  186960\n",
              "1        Prof          A   12        6  Male   93000\n",
              "2        Prof          A   23       20  Male  110515\n",
              "3        Prof          A   40       31  Male  131205\n",
              "4        Prof          B   20       18  Male  104800\n",
              "5        Prof          A   20       20  Male  122400\n",
              "6   AssocProf          A   20       17  Male   81285\n",
              "7        Prof          A   18       18  Male  126300\n",
              "8        Prof          A   29       19  Male   94350\n",
              "9        Prof          A   51       51  Male   57800\n",
              "10       Prof          B   39       33  Male  128250\n",
              "11       Prof          B   23       23  Male  134778\n",
              "12   AsstProf          B    1        0  Male   88000\n",
              "13       Prof          B   35       33  Male  162200\n",
              "14       Prof          B   25       19  Male  153750\n",
              "15       Prof          B   17        3  Male  150480\n",
              "16   AsstProf          B    8        3  Male   75044\n",
              "17   AsstProf          B    4        0  Male   92000\n",
              "18       Prof          A   19        7  Male  107300\n",
              "19       Prof          A   29       27  Male  150500"
            ]
          },
          "metadata": {
            "tags": []
          },
          "execution_count": 6
        }
      ]
    },
    {
      "cell_type": "code",
      "metadata": {
        "colab": {
          "base_uri": "https://localhost:8080/",
          "height": 1000
        },
        "id": "zh5_G_8UcrjL",
        "outputId": "06a8c97b-f4ad-4ad2-9b03-ee820f7896af"
      },
      "source": [
        "df.iloc[0:50,:]"
      ],
      "execution_count": 10,
      "outputs": [
        {
          "output_type": "execute_result",
          "data": {
            "text/html": [
              "<div>\n",
              "<style scoped>\n",
              "    .dataframe tbody tr th:only-of-type {\n",
              "        vertical-align: middle;\n",
              "    }\n",
              "\n",
              "    .dataframe tbody tr th {\n",
              "        vertical-align: top;\n",
              "    }\n",
              "\n",
              "    .dataframe thead th {\n",
              "        text-align: right;\n",
              "    }\n",
              "</style>\n",
              "<table border=\"1\" class=\"dataframe\">\n",
              "  <thead>\n",
              "    <tr style=\"text-align: right;\">\n",
              "      <th></th>\n",
              "      <th>rank</th>\n",
              "      <th>discipline</th>\n",
              "      <th>phd</th>\n",
              "      <th>service</th>\n",
              "      <th>sex</th>\n",
              "      <th>salary</th>\n",
              "    </tr>\n",
              "  </thead>\n",
              "  <tbody>\n",
              "    <tr>\n",
              "      <th>0</th>\n",
              "      <td>Prof</td>\n",
              "      <td>B</td>\n",
              "      <td>56</td>\n",
              "      <td>49</td>\n",
              "      <td>Male</td>\n",
              "      <td>186960</td>\n",
              "    </tr>\n",
              "    <tr>\n",
              "      <th>1</th>\n",
              "      <td>Prof</td>\n",
              "      <td>A</td>\n",
              "      <td>12</td>\n",
              "      <td>6</td>\n",
              "      <td>Male</td>\n",
              "      <td>93000</td>\n",
              "    </tr>\n",
              "    <tr>\n",
              "      <th>2</th>\n",
              "      <td>Prof</td>\n",
              "      <td>A</td>\n",
              "      <td>23</td>\n",
              "      <td>20</td>\n",
              "      <td>Male</td>\n",
              "      <td>110515</td>\n",
              "    </tr>\n",
              "    <tr>\n",
              "      <th>3</th>\n",
              "      <td>Prof</td>\n",
              "      <td>A</td>\n",
              "      <td>40</td>\n",
              "      <td>31</td>\n",
              "      <td>Male</td>\n",
              "      <td>131205</td>\n",
              "    </tr>\n",
              "    <tr>\n",
              "      <th>4</th>\n",
              "      <td>Prof</td>\n",
              "      <td>B</td>\n",
              "      <td>20</td>\n",
              "      <td>18</td>\n",
              "      <td>Male</td>\n",
              "      <td>104800</td>\n",
              "    </tr>\n",
              "    <tr>\n",
              "      <th>5</th>\n",
              "      <td>Prof</td>\n",
              "      <td>A</td>\n",
              "      <td>20</td>\n",
              "      <td>20</td>\n",
              "      <td>Male</td>\n",
              "      <td>122400</td>\n",
              "    </tr>\n",
              "    <tr>\n",
              "      <th>6</th>\n",
              "      <td>AssocProf</td>\n",
              "      <td>A</td>\n",
              "      <td>20</td>\n",
              "      <td>17</td>\n",
              "      <td>Male</td>\n",
              "      <td>81285</td>\n",
              "    </tr>\n",
              "    <tr>\n",
              "      <th>7</th>\n",
              "      <td>Prof</td>\n",
              "      <td>A</td>\n",
              "      <td>18</td>\n",
              "      <td>18</td>\n",
              "      <td>Male</td>\n",
              "      <td>126300</td>\n",
              "    </tr>\n",
              "    <tr>\n",
              "      <th>8</th>\n",
              "      <td>Prof</td>\n",
              "      <td>A</td>\n",
              "      <td>29</td>\n",
              "      <td>19</td>\n",
              "      <td>Male</td>\n",
              "      <td>94350</td>\n",
              "    </tr>\n",
              "    <tr>\n",
              "      <th>9</th>\n",
              "      <td>Prof</td>\n",
              "      <td>A</td>\n",
              "      <td>51</td>\n",
              "      <td>51</td>\n",
              "      <td>Male</td>\n",
              "      <td>57800</td>\n",
              "    </tr>\n",
              "    <tr>\n",
              "      <th>10</th>\n",
              "      <td>Prof</td>\n",
              "      <td>B</td>\n",
              "      <td>39</td>\n",
              "      <td>33</td>\n",
              "      <td>Male</td>\n",
              "      <td>128250</td>\n",
              "    </tr>\n",
              "    <tr>\n",
              "      <th>11</th>\n",
              "      <td>Prof</td>\n",
              "      <td>B</td>\n",
              "      <td>23</td>\n",
              "      <td>23</td>\n",
              "      <td>Male</td>\n",
              "      <td>134778</td>\n",
              "    </tr>\n",
              "    <tr>\n",
              "      <th>12</th>\n",
              "      <td>AsstProf</td>\n",
              "      <td>B</td>\n",
              "      <td>1</td>\n",
              "      <td>0</td>\n",
              "      <td>Male</td>\n",
              "      <td>88000</td>\n",
              "    </tr>\n",
              "    <tr>\n",
              "      <th>13</th>\n",
              "      <td>Prof</td>\n",
              "      <td>B</td>\n",
              "      <td>35</td>\n",
              "      <td>33</td>\n",
              "      <td>Male</td>\n",
              "      <td>162200</td>\n",
              "    </tr>\n",
              "    <tr>\n",
              "      <th>14</th>\n",
              "      <td>Prof</td>\n",
              "      <td>B</td>\n",
              "      <td>25</td>\n",
              "      <td>19</td>\n",
              "      <td>Male</td>\n",
              "      <td>153750</td>\n",
              "    </tr>\n",
              "    <tr>\n",
              "      <th>15</th>\n",
              "      <td>Prof</td>\n",
              "      <td>B</td>\n",
              "      <td>17</td>\n",
              "      <td>3</td>\n",
              "      <td>Male</td>\n",
              "      <td>150480</td>\n",
              "    </tr>\n",
              "    <tr>\n",
              "      <th>16</th>\n",
              "      <td>AsstProf</td>\n",
              "      <td>B</td>\n",
              "      <td>8</td>\n",
              "      <td>3</td>\n",
              "      <td>Male</td>\n",
              "      <td>75044</td>\n",
              "    </tr>\n",
              "    <tr>\n",
              "      <th>17</th>\n",
              "      <td>AsstProf</td>\n",
              "      <td>B</td>\n",
              "      <td>4</td>\n",
              "      <td>0</td>\n",
              "      <td>Male</td>\n",
              "      <td>92000</td>\n",
              "    </tr>\n",
              "    <tr>\n",
              "      <th>18</th>\n",
              "      <td>Prof</td>\n",
              "      <td>A</td>\n",
              "      <td>19</td>\n",
              "      <td>7</td>\n",
              "      <td>Male</td>\n",
              "      <td>107300</td>\n",
              "    </tr>\n",
              "    <tr>\n",
              "      <th>19</th>\n",
              "      <td>Prof</td>\n",
              "      <td>A</td>\n",
              "      <td>29</td>\n",
              "      <td>27</td>\n",
              "      <td>Male</td>\n",
              "      <td>150500</td>\n",
              "    </tr>\n",
              "    <tr>\n",
              "      <th>20</th>\n",
              "      <td>AsstProf</td>\n",
              "      <td>B</td>\n",
              "      <td>4</td>\n",
              "      <td>4</td>\n",
              "      <td>Male</td>\n",
              "      <td>92000</td>\n",
              "    </tr>\n",
              "    <tr>\n",
              "      <th>21</th>\n",
              "      <td>Prof</td>\n",
              "      <td>A</td>\n",
              "      <td>33</td>\n",
              "      <td>30</td>\n",
              "      <td>Male</td>\n",
              "      <td>103106</td>\n",
              "    </tr>\n",
              "    <tr>\n",
              "      <th>22</th>\n",
              "      <td>AsstProf</td>\n",
              "      <td>A</td>\n",
              "      <td>4</td>\n",
              "      <td>2</td>\n",
              "      <td>Male</td>\n",
              "      <td>73000</td>\n",
              "    </tr>\n",
              "    <tr>\n",
              "      <th>23</th>\n",
              "      <td>AsstProf</td>\n",
              "      <td>A</td>\n",
              "      <td>2</td>\n",
              "      <td>0</td>\n",
              "      <td>Male</td>\n",
              "      <td>85000</td>\n",
              "    </tr>\n",
              "    <tr>\n",
              "      <th>24</th>\n",
              "      <td>Prof</td>\n",
              "      <td>A</td>\n",
              "      <td>30</td>\n",
              "      <td>23</td>\n",
              "      <td>Male</td>\n",
              "      <td>91100</td>\n",
              "    </tr>\n",
              "    <tr>\n",
              "      <th>25</th>\n",
              "      <td>Prof</td>\n",
              "      <td>B</td>\n",
              "      <td>35</td>\n",
              "      <td>31</td>\n",
              "      <td>Male</td>\n",
              "      <td>99418</td>\n",
              "    </tr>\n",
              "    <tr>\n",
              "      <th>26</th>\n",
              "      <td>Prof</td>\n",
              "      <td>A</td>\n",
              "      <td>38</td>\n",
              "      <td>19</td>\n",
              "      <td>Male</td>\n",
              "      <td>148750</td>\n",
              "    </tr>\n",
              "    <tr>\n",
              "      <th>27</th>\n",
              "      <td>Prof</td>\n",
              "      <td>A</td>\n",
              "      <td>45</td>\n",
              "      <td>43</td>\n",
              "      <td>Male</td>\n",
              "      <td>155865</td>\n",
              "    </tr>\n",
              "    <tr>\n",
              "      <th>28</th>\n",
              "      <td>AsstProf</td>\n",
              "      <td>B</td>\n",
              "      <td>7</td>\n",
              "      <td>2</td>\n",
              "      <td>Male</td>\n",
              "      <td>91300</td>\n",
              "    </tr>\n",
              "    <tr>\n",
              "      <th>29</th>\n",
              "      <td>Prof</td>\n",
              "      <td>B</td>\n",
              "      <td>21</td>\n",
              "      <td>20</td>\n",
              "      <td>Male</td>\n",
              "      <td>123683</td>\n",
              "    </tr>\n",
              "    <tr>\n",
              "      <th>30</th>\n",
              "      <td>AssocProf</td>\n",
              "      <td>B</td>\n",
              "      <td>9</td>\n",
              "      <td>7</td>\n",
              "      <td>Male</td>\n",
              "      <td>107008</td>\n",
              "    </tr>\n",
              "    <tr>\n",
              "      <th>31</th>\n",
              "      <td>Prof</td>\n",
              "      <td>B</td>\n",
              "      <td>22</td>\n",
              "      <td>21</td>\n",
              "      <td>Male</td>\n",
              "      <td>155750</td>\n",
              "    </tr>\n",
              "    <tr>\n",
              "      <th>32</th>\n",
              "      <td>Prof</td>\n",
              "      <td>A</td>\n",
              "      <td>27</td>\n",
              "      <td>19</td>\n",
              "      <td>Male</td>\n",
              "      <td>103275</td>\n",
              "    </tr>\n",
              "    <tr>\n",
              "      <th>33</th>\n",
              "      <td>Prof</td>\n",
              "      <td>B</td>\n",
              "      <td>18</td>\n",
              "      <td>18</td>\n",
              "      <td>Male</td>\n",
              "      <td>120000</td>\n",
              "    </tr>\n",
              "    <tr>\n",
              "      <th>34</th>\n",
              "      <td>AssocProf</td>\n",
              "      <td>B</td>\n",
              "      <td>12</td>\n",
              "      <td>8</td>\n",
              "      <td>Male</td>\n",
              "      <td>119800</td>\n",
              "    </tr>\n",
              "    <tr>\n",
              "      <th>35</th>\n",
              "      <td>Prof</td>\n",
              "      <td>B</td>\n",
              "      <td>28</td>\n",
              "      <td>23</td>\n",
              "      <td>Male</td>\n",
              "      <td>126933</td>\n",
              "    </tr>\n",
              "    <tr>\n",
              "      <th>36</th>\n",
              "      <td>Prof</td>\n",
              "      <td>B</td>\n",
              "      <td>45</td>\n",
              "      <td>45</td>\n",
              "      <td>Male</td>\n",
              "      <td>146856</td>\n",
              "    </tr>\n",
              "    <tr>\n",
              "      <th>37</th>\n",
              "      <td>Prof</td>\n",
              "      <td>A</td>\n",
              "      <td>20</td>\n",
              "      <td>8</td>\n",
              "      <td>Male</td>\n",
              "      <td>102000</td>\n",
              "    </tr>\n",
              "    <tr>\n",
              "      <th>38</th>\n",
              "      <td>AsstProf</td>\n",
              "      <td>B</td>\n",
              "      <td>4</td>\n",
              "      <td>3</td>\n",
              "      <td>Male</td>\n",
              "      <td>91000</td>\n",
              "    </tr>\n",
              "    <tr>\n",
              "      <th>39</th>\n",
              "      <td>Prof</td>\n",
              "      <td>B</td>\n",
              "      <td>18</td>\n",
              "      <td>18</td>\n",
              "      <td>Female</td>\n",
              "      <td>129000</td>\n",
              "    </tr>\n",
              "    <tr>\n",
              "      <th>40</th>\n",
              "      <td>Prof</td>\n",
              "      <td>A</td>\n",
              "      <td>39</td>\n",
              "      <td>36</td>\n",
              "      <td>Female</td>\n",
              "      <td>137000</td>\n",
              "    </tr>\n",
              "    <tr>\n",
              "      <th>41</th>\n",
              "      <td>AssocProf</td>\n",
              "      <td>A</td>\n",
              "      <td>13</td>\n",
              "      <td>8</td>\n",
              "      <td>Female</td>\n",
              "      <td>74830</td>\n",
              "    </tr>\n",
              "    <tr>\n",
              "      <th>42</th>\n",
              "      <td>AsstProf</td>\n",
              "      <td>B</td>\n",
              "      <td>4</td>\n",
              "      <td>2</td>\n",
              "      <td>Female</td>\n",
              "      <td>80225</td>\n",
              "    </tr>\n",
              "    <tr>\n",
              "      <th>43</th>\n",
              "      <td>AsstProf</td>\n",
              "      <td>B</td>\n",
              "      <td>5</td>\n",
              "      <td>0</td>\n",
              "      <td>Female</td>\n",
              "      <td>77000</td>\n",
              "    </tr>\n",
              "    <tr>\n",
              "      <th>44</th>\n",
              "      <td>Prof</td>\n",
              "      <td>B</td>\n",
              "      <td>23</td>\n",
              "      <td>19</td>\n",
              "      <td>Female</td>\n",
              "      <td>151768</td>\n",
              "    </tr>\n",
              "    <tr>\n",
              "      <th>45</th>\n",
              "      <td>Prof</td>\n",
              "      <td>B</td>\n",
              "      <td>25</td>\n",
              "      <td>25</td>\n",
              "      <td>Female</td>\n",
              "      <td>140096</td>\n",
              "    </tr>\n",
              "    <tr>\n",
              "      <th>46</th>\n",
              "      <td>AsstProf</td>\n",
              "      <td>B</td>\n",
              "      <td>11</td>\n",
              "      <td>3</td>\n",
              "      <td>Female</td>\n",
              "      <td>74692</td>\n",
              "    </tr>\n",
              "    <tr>\n",
              "      <th>47</th>\n",
              "      <td>AssocProf</td>\n",
              "      <td>B</td>\n",
              "      <td>11</td>\n",
              "      <td>11</td>\n",
              "      <td>Female</td>\n",
              "      <td>103613</td>\n",
              "    </tr>\n",
              "    <tr>\n",
              "      <th>48</th>\n",
              "      <td>Prof</td>\n",
              "      <td>B</td>\n",
              "      <td>17</td>\n",
              "      <td>17</td>\n",
              "      <td>Female</td>\n",
              "      <td>111512</td>\n",
              "    </tr>\n",
              "    <tr>\n",
              "      <th>49</th>\n",
              "      <td>Prof</td>\n",
              "      <td>B</td>\n",
              "      <td>17</td>\n",
              "      <td>18</td>\n",
              "      <td>Female</td>\n",
              "      <td>122960</td>\n",
              "    </tr>\n",
              "  </tbody>\n",
              "</table>\n",
              "</div>"
            ],
            "text/plain": [
              "         rank discipline  phd  service     sex  salary\n",
              "0        Prof          B   56       49    Male  186960\n",
              "1        Prof          A   12        6    Male   93000\n",
              "2        Prof          A   23       20    Male  110515\n",
              "3        Prof          A   40       31    Male  131205\n",
              "4        Prof          B   20       18    Male  104800\n",
              "5        Prof          A   20       20    Male  122400\n",
              "6   AssocProf          A   20       17    Male   81285\n",
              "7        Prof          A   18       18    Male  126300\n",
              "8        Prof          A   29       19    Male   94350\n",
              "9        Prof          A   51       51    Male   57800\n",
              "10       Prof          B   39       33    Male  128250\n",
              "11       Prof          B   23       23    Male  134778\n",
              "12   AsstProf          B    1        0    Male   88000\n",
              "13       Prof          B   35       33    Male  162200\n",
              "14       Prof          B   25       19    Male  153750\n",
              "15       Prof          B   17        3    Male  150480\n",
              "16   AsstProf          B    8        3    Male   75044\n",
              "17   AsstProf          B    4        0    Male   92000\n",
              "18       Prof          A   19        7    Male  107300\n",
              "19       Prof          A   29       27    Male  150500\n",
              "20   AsstProf          B    4        4    Male   92000\n",
              "21       Prof          A   33       30    Male  103106\n",
              "22   AsstProf          A    4        2    Male   73000\n",
              "23   AsstProf          A    2        0    Male   85000\n",
              "24       Prof          A   30       23    Male   91100\n",
              "25       Prof          B   35       31    Male   99418\n",
              "26       Prof          A   38       19    Male  148750\n",
              "27       Prof          A   45       43    Male  155865\n",
              "28   AsstProf          B    7        2    Male   91300\n",
              "29       Prof          B   21       20    Male  123683\n",
              "30  AssocProf          B    9        7    Male  107008\n",
              "31       Prof          B   22       21    Male  155750\n",
              "32       Prof          A   27       19    Male  103275\n",
              "33       Prof          B   18       18    Male  120000\n",
              "34  AssocProf          B   12        8    Male  119800\n",
              "35       Prof          B   28       23    Male  126933\n",
              "36       Prof          B   45       45    Male  146856\n",
              "37       Prof          A   20        8    Male  102000\n",
              "38   AsstProf          B    4        3    Male   91000\n",
              "39       Prof          B   18       18  Female  129000\n",
              "40       Prof          A   39       36  Female  137000\n",
              "41  AssocProf          A   13        8  Female   74830\n",
              "42   AsstProf          B    4        2  Female   80225\n",
              "43   AsstProf          B    5        0  Female   77000\n",
              "44       Prof          B   23       19  Female  151768\n",
              "45       Prof          B   25       25  Female  140096\n",
              "46   AsstProf          B   11        3  Female   74692\n",
              "47  AssocProf          B   11       11  Female  103613\n",
              "48       Prof          B   17       17  Female  111512\n",
              "49       Prof          B   17       18  Female  122960"
            ]
          },
          "metadata": {
            "tags": []
          },
          "execution_count": 10
        }
      ]
    },
    {
      "cell_type": "code",
      "metadata": {
        "colab": {
          "base_uri": "https://localhost:8080/"
        },
        "id": "RIw9S4q9cz2l",
        "outputId": "2e9d149d-8b0c-4187-a7ce-da662ff34684"
      },
      "source": [
        "df.shape"
      ],
      "execution_count": 19,
      "outputs": [
        {
          "output_type": "execute_result",
          "data": {
            "text/plain": [
              "(78, 6)"
            ]
          },
          "metadata": {
            "tags": []
          },
          "execution_count": 19
        }
      ]
    },
    {
      "cell_type": "code",
      "metadata": {
        "colab": {
          "base_uri": "https://localhost:8080/"
        },
        "id": "5zGYzs7RjUyu",
        "outputId": "acd7ea56-bedd-470d-fa29-18e09438b380"
      },
      "source": [
        "df.info()"
      ],
      "execution_count": 27,
      "outputs": [
        {
          "output_type": "stream",
          "text": [
            "<class 'pandas.core.frame.DataFrame'>\n",
            "RangeIndex: 78 entries, 0 to 77\n",
            "Data columns (total 6 columns):\n",
            " #   Column      Non-Null Count  Dtype \n",
            "---  ------      --------------  ----- \n",
            " 0   rank        78 non-null     object\n",
            " 1   discipline  78 non-null     object\n",
            " 2   phd         78 non-null     int64 \n",
            " 3   service     78 non-null     int64 \n",
            " 4   sex         78 non-null     object\n",
            " 5   salary      78 non-null     int64 \n",
            "dtypes: int64(3), object(3)\n",
            "memory usage: 3.8+ KB\n"
          ],
          "name": "stdout"
        }
      ]
    },
    {
      "cell_type": "code",
      "metadata": {
        "colab": {
          "base_uri": "https://localhost:8080/"
        },
        "id": "QWDrvXmLkIK2",
        "outputId": "a31630c0-9fa4-42c2-9efd-ffe0adb86f16"
      },
      "source": [
        "df['rank'].value_counts()"
      ],
      "execution_count": 30,
      "outputs": [
        {
          "output_type": "execute_result",
          "data": {
            "text/plain": [
              "Prof         46\n",
              "AsstProf     19\n",
              "AssocProf    13\n",
              "Name: rank, dtype: int64"
            ]
          },
          "metadata": {
            "tags": []
          },
          "execution_count": 30
        }
      ]
    },
    {
      "cell_type": "code",
      "metadata": {
        "colab": {
          "base_uri": "https://localhost:8080/"
        },
        "id": "CERTWBM6kK-W",
        "outputId": "f6e2c00c-d807-4104-9059-8936f0ac3ca1"
      },
      "source": [
        "df.info()"
      ],
      "execution_count": 32,
      "outputs": [
        {
          "output_type": "stream",
          "text": [
            "<class 'pandas.core.frame.DataFrame'>\n",
            "RangeIndex: 78 entries, 0 to 77\n",
            "Data columns (total 6 columns):\n",
            " #   Column      Non-Null Count  Dtype \n",
            "---  ------      --------------  ----- \n",
            " 0   rank        78 non-null     object\n",
            " 1   discipline  78 non-null     object\n",
            " 2   phd         78 non-null     int64 \n",
            " 3   service     78 non-null     int64 \n",
            " 4   sex         78 non-null     object\n",
            " 5   salary      78 non-null     int64 \n",
            "dtypes: int64(3), object(3)\n",
            "memory usage: 3.8+ KB\n"
          ],
          "name": "stdout"
        }
      ]
    },
    {
      "cell_type": "code",
      "metadata": {
        "colab": {
          "base_uri": "https://localhost:8080/"
        },
        "id": "euLiObt9oTCz",
        "outputId": "c8a70938-d688-4916-b9a0-1802e237cfeb"
      },
      "source": [
        "df.mean()"
      ],
      "execution_count": 39,
      "outputs": [
        {
          "output_type": "execute_result",
          "data": {
            "text/plain": [
              "phd            19.705128\n",
              "service        15.051282\n",
              "salary     108023.782051\n",
              "dtype: float64"
            ]
          },
          "metadata": {
            "tags": []
          },
          "execution_count": 39
        }
      ]
    },
    {
      "cell_type": "code",
      "metadata": {
        "colab": {
          "base_uri": "https://localhost:8080/"
        },
        "id": "uN0mywQUoVH0",
        "outputId": "c0fa23bf-d81b-485b-b909-d9511b53d719"
      },
      "source": [
        "df[:50].mean()"
      ],
      "execution_count": 37,
      "outputs": [
        {
          "output_type": "execute_result",
          "data": {
            "text/plain": [
              "phd            21.52\n",
              "service        17.60\n",
              "salary     113789.14\n",
              "dtype: float64"
            ]
          },
          "metadata": {
            "tags": []
          },
          "execution_count": 37
        }
      ]
    },
    {
      "cell_type": "code",
      "metadata": {
        "colab": {
          "base_uri": "https://localhost:8080/",
          "height": 297
        },
        "id": "WoRlNBkrogsm",
        "outputId": "6e7c85db-9066-4b05-f936-71c6c86d7c99"
      },
      "source": [
        "df[['phd']].describe()"
      ],
      "execution_count": 43,
      "outputs": [
        {
          "output_type": "execute_result",
          "data": {
            "text/html": [
              "<div>\n",
              "<style scoped>\n",
              "    .dataframe tbody tr th:only-of-type {\n",
              "        vertical-align: middle;\n",
              "    }\n",
              "\n",
              "    .dataframe tbody tr th {\n",
              "        vertical-align: top;\n",
              "    }\n",
              "\n",
              "    .dataframe thead th {\n",
              "        text-align: right;\n",
              "    }\n",
              "</style>\n",
              "<table border=\"1\" class=\"dataframe\">\n",
              "  <thead>\n",
              "    <tr style=\"text-align: right;\">\n",
              "      <th></th>\n",
              "      <th>phd</th>\n",
              "    </tr>\n",
              "  </thead>\n",
              "  <tbody>\n",
              "    <tr>\n",
              "      <th>count</th>\n",
              "      <td>78.000000</td>\n",
              "    </tr>\n",
              "    <tr>\n",
              "      <th>mean</th>\n",
              "      <td>19.705128</td>\n",
              "    </tr>\n",
              "    <tr>\n",
              "      <th>std</th>\n",
              "      <td>12.498425</td>\n",
              "    </tr>\n",
              "    <tr>\n",
              "      <th>min</th>\n",
              "      <td>1.000000</td>\n",
              "    </tr>\n",
              "    <tr>\n",
              "      <th>25%</th>\n",
              "      <td>10.250000</td>\n",
              "    </tr>\n",
              "    <tr>\n",
              "      <th>50%</th>\n",
              "      <td>18.500000</td>\n",
              "    </tr>\n",
              "    <tr>\n",
              "      <th>75%</th>\n",
              "      <td>27.750000</td>\n",
              "    </tr>\n",
              "    <tr>\n",
              "      <th>max</th>\n",
              "      <td>56.000000</td>\n",
              "    </tr>\n",
              "  </tbody>\n",
              "</table>\n",
              "</div>"
            ],
            "text/plain": [
              "             phd\n",
              "count  78.000000\n",
              "mean   19.705128\n",
              "std    12.498425\n",
              "min     1.000000\n",
              "25%    10.250000\n",
              "50%    18.500000\n",
              "75%    27.750000\n",
              "max    56.000000"
            ]
          },
          "metadata": {
            "tags": []
          },
          "execution_count": 43
        }
      ]
    },
    {
      "cell_type": "code",
      "metadata": {
        "colab": {
          "base_uri": "https://localhost:8080/"
        },
        "id": "z18b06TDrkBX",
        "outputId": "ccec94d9-ef6c-4786-b2d3-c75fb14ce05c"
      },
      "source": [
        "df['phd'].count()"
      ],
      "execution_count": 44,
      "outputs": [
        {
          "output_type": "execute_result",
          "data": {
            "text/plain": [
              "78"
            ]
          },
          "metadata": {
            "tags": []
          },
          "execution_count": 44
        }
      ]
    },
    {
      "cell_type": "code",
      "metadata": {
        "colab": {
          "base_uri": "https://localhost:8080/"
        },
        "id": "AMXT2afsryrl",
        "outputId": "bfc3067b-56ef-4983-852b-2ae1e2cf5ae0"
      },
      "source": [
        "df.phd.mean()"
      ],
      "execution_count": 45,
      "outputs": [
        {
          "output_type": "execute_result",
          "data": {
            "text/plain": [
              "19.705128205128204"
            ]
          },
          "metadata": {
            "tags": []
          },
          "execution_count": 45
        }
      ]
    },
    {
      "cell_type": "markdown",
      "metadata": {
        "id": "BlYD-mV1svMZ"
      },
      "source": [
        "This is a good code\r\n"
      ]
    },
    {
      "cell_type": "code",
      "metadata": {
        "id": "BVOAnyuCr3kl"
      },
      "source": [
        "grouped = df.groupby('rank')"
      ],
      "execution_count": 46,
      "outputs": []
    },
    {
      "cell_type": "code",
      "metadata": {
        "colab": {
          "base_uri": "https://localhost:8080/"
        },
        "id": "EolUNY2_wlpi",
        "outputId": "c62dfbb2-673f-40a1-d909-c29ddbdc0671"
      },
      "source": [
        "grouped"
      ],
      "execution_count": 48,
      "outputs": [
        {
          "output_type": "execute_result",
          "data": {
            "text/plain": [
              "{'AssocProf': [6, 30, 34, 41, 47, 54, 56, 59, 61, 62, 64, 71, 74], 'AsstProf': [12, 16, 17, 20, 22, 23, 28, 38, 42, 43, 46, 50, 53, 55, 57, 60, 66, 68, 70], 'Prof': [0, 1, 2, 3, 4, 5, 7, 8, 9, 10, 11, 13, 14, 15, 18, 19, 21, 24, 25, 26, 27, 29, 31, 32, 33, 35, 36, 37, 39, 40, 44, 45, 48, 49, 51, 52, 58, 63, 65, 67, 69, 72, 73, 75, 76, 77]}"
            ]
          },
          "metadata": {
            "tags": []
          },
          "execution_count": 48
        }
      ]
    },
    {
      "cell_type": "code",
      "metadata": {
        "colab": {
          "base_uri": "https://localhost:8080/"
        },
        "id": "hKGb9krywnF3",
        "outputId": "b306fbaa-bfec-47ba-cb4a-51574489ec84"
      },
      "source": [
        "type(df.salary >12000)"
      ],
      "execution_count": 50,
      "outputs": [
        {
          "output_type": "execute_result",
          "data": {
            "text/plain": [
              "pandas.core.series.Series"
            ]
          },
          "metadata": {
            "tags": []
          },
          "execution_count": 50
        }
      ]
    },
    {
      "cell_type": "code",
      "metadata": {
        "colab": {
          "base_uri": "https://localhost:8080/",
          "height": 136
        },
        "id": "ryo9ikBcx7_-",
        "outputId": "6e68fd00-60a7-444d-92bc-c51286786481"
      },
      "source": [
        "df[ (df.sex=='Female') & (df.service >10) ]"
      ],
      "execution_count": 54,
      "outputs": [
        {
          "output_type": "error",
          "ename": "SyntaxError",
          "evalue": "ignored",
          "traceback": [
            "\u001b[0;36m  File \u001b[0;32m\"<ipython-input-54-9ebe62a81bb4>\"\u001b[0;36m, line \u001b[0;32m1\u001b[0m\n\u001b[0;31m    df[ (df.sex=='Female') And (df.service >10) ]\u001b[0m\n\u001b[0m                             ^\u001b[0m\n\u001b[0;31mSyntaxError\u001b[0m\u001b[0;31m:\u001b[0m invalid syntax\n"
          ]
        }
      ]
    },
    {
      "cell_type": "code",
      "metadata": {
        "colab": {
          "base_uri": "https://localhost:8080/"
        },
        "id": "QI-g7Vljyp1t",
        "outputId": "e7459c9f-7c31-4f2f-b3ea-d780cedb9587"
      },
      "source": [
        "df.iloc[0]"
      ],
      "execution_count": 58,
      "outputs": [
        {
          "output_type": "execute_result",
          "data": {
            "text/plain": [
              "rank            Prof\n",
              "discipline         B\n",
              "phd               56\n",
              "service           49\n",
              "sex             Male\n",
              "salary        186960\n",
              "Name: 0, dtype: object"
            ]
          },
          "metadata": {
            "tags": []
          },
          "execution_count": 58
        }
      ]
    },
    {
      "cell_type": "code",
      "metadata": {
        "id": "ywX3OQcd7LTW"
      },
      "source": [
        ""
      ],
      "execution_count": null,
      "outputs": []
    }
  ]
}