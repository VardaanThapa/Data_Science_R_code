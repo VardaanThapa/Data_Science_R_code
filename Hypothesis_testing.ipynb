{
  "nbformat": 4,
  "nbformat_minor": 0,
  "metadata": {
    "colab": {
      "name": "Untitled2.ipynb",
      "provenance": [],
      "collapsed_sections": [],
      "authorship_tag": "ABX9TyMwpv/6pjce9dQv1SV3XvIt",
      "include_colab_link": true
    },
    "kernelspec": {
      "name": "python3",
      "display_name": "Python 3"
    }
  },
  "cells": [
    {
      "cell_type": "markdown",
      "metadata": {
        "id": "view-in-github",
        "colab_type": "text"
      },
      "source": [
        "<a href=\"https://colab.research.google.com/github/VardaanThapa/Data_Science_code/blob/main/Hypothesis_testing.ipynb\" target=\"_parent\"><img src=\"https://colab.research.google.com/assets/colab-badge.svg\" alt=\"Open In Colab\"/></a>"
      ]
    },
    {
      "cell_type": "code",
      "metadata": {
        "id": "NPe6lEsQvVo4"
      },
      "source": [
        "import pandas as pd\r\n",
        "import scipy \r\n",
        "import numpy as np\r\n",
        "from scipy import stats\r\n"
      ],
      "execution_count": 37,
      "outputs": []
    },
    {
      "cell_type": "code",
      "metadata": {
        "id": "-leLibY_vZ_c"
      },
      "source": [
        "data=pd.Series([0.593, 0.142, 0.329, 0.691, 0.231, 0.793, 0.519, 0.392, 0.418])\r\n"
      ],
      "execution_count": 38,
      "outputs": []
    },
    {
      "cell_type": "code",
      "metadata": {
        "id": "kIBZQOI2v9it"
      },
      "source": [
        "p = scipy.stats.ttest_1samp(data,0.3)"
      ],
      "execution_count": 39,
      "outputs": []
    },
    {
      "cell_type": "code",
      "metadata": {
        "colab": {
          "base_uri": "https://localhost:8080/"
        },
        "id": "XssFXumJwtbK",
        "outputId": "8eeb0c61-d25b-494e-d283-95e0a349eb42"
      },
      "source": [
        "p"
      ],
      "execution_count": 40,
      "outputs": [
        {
          "output_type": "execute_result",
          "data": {
            "text/plain": [
              "Ttest_1sampResult(statistic=2.2050588385131595, pvalue=0.05853032968489765)"
            ]
          },
          "metadata": {
            "tags": []
          },
          "execution_count": 40
        }
      ]
    },
    {
      "cell_type": "code",
      "metadata": {
        "id": "U3BncilO50-H"
      },
      "source": [
        "control=pd.Series([91, 87, 99, 77, 88, 91])\r\n",
        "Treat =pd.Series([101, 110, 103, 93, 99, 104])\r\n"
      ],
      "execution_count": 41,
      "outputs": []
    },
    {
      "cell_type": "code",
      "metadata": {
        "colab": {
          "base_uri": "https://localhost:8080/"
        },
        "id": "EgWEZZsN9Dpe",
        "outputId": "66dab403-e304-4d8c-c2c3-7bef0b0250f7"
      },
      "source": [
        "stats.ttest_ind(control, Treat)"
      ],
      "execution_count": 42,
      "outputs": [
        {
          "output_type": "execute_result",
          "data": {
            "text/plain": [
              "Ttest_indResult(statistic=-3.445612673536487, pvalue=0.006272124350809803)"
            ]
          },
          "metadata": {
            "tags": []
          },
          "execution_count": 42
        }
      ]
    },
    {
      "cell_type": "code",
      "metadata": {
        "colab": {
          "base_uri": "https://localhost:8080/"
        },
        "id": "jGXn3tbA9MQA",
        "outputId": "f72789f8-0c58-421f-a08f-2f1817b08ace"
      },
      "source": [
        "n1 = 247\r\n",
        "p1 = .37\r\n",
        "\r\n",
        "n2 = 308\r\n",
        "p2 = .39\r\n",
        "population1 = np.random.binomial(1, p1, n1)\r\n",
        "population2 = np.random.binomial(1, p2, n2)\r\n",
        "population1.mean()\r\n"
      ],
      "execution_count": 47,
      "outputs": [
        {
          "output_type": "execute_result",
          "data": {
            "text/plain": [
              "0.3684210526315789"
            ]
          },
          "metadata": {
            "tags": []
          },
          "execution_count": 47
        }
      ]
    },
    {
      "cell_type": "code",
      "metadata": {
        "colab": {
          "base_uri": "https://localhost:8080/"
        },
        "id": "kbYaIfB2Ahjp",
        "outputId": "f09a1c9b-49d1-4a9c-cc14-f36cd4ed92e7"
      },
      "source": [
        "import statsmodels.api as sm\r\n",
        "sm.stats.ttest_ind(population1, population2)\r\n"
      ],
      "execution_count": 48,
      "outputs": [
        {
          "output_type": "execute_result",
          "data": {
            "text/plain": [
              "(-0.19822752332850269, 0.8429399032294317, 553.0)"
            ]
          },
          "metadata": {
            "tags": []
          },
          "execution_count": 48
        }
      ]
    },
    {
      "cell_type": "code",
      "metadata": {
        "id": "xN1out71AqDt"
      },
      "source": [
        ""
      ],
      "execution_count": null,
      "outputs": []
    }
  ]
}